{
 "cells": [
  {
   "cell_type": "code",
   "execution_count": 2,
   "id": "7b590233",
   "metadata": {},
   "outputs": [
    {
     "name": "stdout",
     "output_type": "stream",
     "text": [
      "Found 10397 files belonging to 12 classes.\n"
     ]
    }
   ],
   "source": [
    "import tensorflow as tf\n",
    "import numpy as np\n",
    "import pickle\n",
    "import os\n",
    "from sklearn.metrics import classification_report, accuracy_score\n",
    "\n",
    "DATASET_PATH = 'dataset'\n",
    "IMAGE_SIZE = (224, 224)\n",
    "BATCH_SIZE = 32\n",
    "SEED = 123\n",
    "\n",
    "full_dataset = tf.keras.utils.image_dataset_from_directory(\n",
    "    DATASET_PATH,\n",
    "    seed=SEED,\n",
    "    image_size=IMAGE_SIZE,\n",
    "    batch_size=BATCH_SIZE,\n",
    "    shuffle=True\n",
    ")\n",
    "\n",
    "class_names = full_dataset.class_names\n",
    "num_classes = len(class_names)\n",
    "\n",
    "dataset_size = len(full_dataset)\n",
    "train_size = int(0.8 * dataset_size)\n",
    "val_size = int(0.1 * dataset_size)\n",
    "\n",
    "test_ds = full_dataset.skip(train_size + val_size)\n",
    "\n",
    "AUTOTUNE = tf.data.AUTOTUNE\n",
    "test_ds = test_ds.cache().prefetch(buffer_size=AUTOTUNE)\n"
   ]
  },
  {
   "cell_type": "code",
   "execution_count": 3,
   "id": "2a5e0f97",
   "metadata": {},
   "outputs": [
    {
     "name": "stdout",
     "output_type": "stream",
     "text": [
      "WARNING:tensorflow:Using a while_loop for converting RngReadAndSkip cause there is no registered converter for this op.\n",
      "WARNING:tensorflow:Using a while_loop for converting Bitcast cause there is no registered converter for this op.\n",
      "WARNING:tensorflow:Using a while_loop for converting Bitcast cause there is no registered converter for this op.\n",
      "WARNING:tensorflow:Using a while_loop for converting StatelessRandomUniformV2 cause there is no registered converter for this op.\n",
      "WARNING:tensorflow:Using a while_loop for converting ImageProjectiveTransformV3 cause there is no registered converter for this op.\n",
      "WARNING:tensorflow:Using a while_loop for converting RngReadAndSkip cause there is no registered converter for this op.\n",
      "WARNING:tensorflow:Using a while_loop for converting Bitcast cause there is no registered converter for this op.\n",
      "WARNING:tensorflow:Using a while_loop for converting Bitcast cause there is no registered converter for this op.\n",
      "WARNING:tensorflow:Using a while_loop for converting StatelessRandomUniformV2 cause there is no registered converter for this op.\n",
      "WARNING:tensorflow:Using a while_loop for converting ImageProjectiveTransformV3 cause there is no registered converter for this op.\n",
      "WARNING:tensorflow:Using a while_loop for converting RngReadAndSkip cause there is no registered converter for this op.\n",
      "WARNING:tensorflow:Using a while_loop for converting Bitcast cause there is no registered converter for this op.\n",
      "WARNING:tensorflow:Using a while_loop for converting Bitcast cause there is no registered converter for this op.\n",
      "WARNING:tensorflow:Using a while_loop for converting StatelessRandomUniformV2 cause there is no registered converter for this op.\n",
      "WARNING:tensorflow:Using a while_loop for converting ImageProjectiveTransformV3 cause there is no registered converter for this op.\n",
      "WARNING:tensorflow:Using a while_loop for converting RngReadAndSkip cause there is no registered converter for this op.\n",
      "WARNING:tensorflow:Using a while_loop for converting Bitcast cause there is no registered converter for this op.\n",
      "WARNING:tensorflow:Using a while_loop for converting Bitcast cause there is no registered converter for this op.\n",
      "WARNING:tensorflow:Using a while_loop for converting StatelessRandomUniformV2 cause there is no registered converter for this op.\n",
      "WARNING:tensorflow:Using a while_loop for converting ImageProjectiveTransformV3 cause there is no registered converter for this op.\n"
     ]
    }
   ],
   "source": [
    "from tensorflow.keras.models import load_model\n",
    "\n",
    "MODEL_NAME = 'garbage-classifier_final.h5' \n",
    "MODEL_PATH = os.path.join('models', MODEL_NAME)\n",
    "\n",
    "try:\n",
    "    model = load_model(MODEL_PATH)\n",
    "except Exception as e:\n",
    "    print(f\"Gagal memuat model: {e}\")\n",
    "    model = None"
   ]
  },
  {
   "cell_type": "code",
   "execution_count": 5,
   "id": "f9121a23",
   "metadata": {},
   "outputs": [
    {
     "name": "stdout",
     "output_type": "stream",
     "text": [
      "33/33 [==============================] - 19s 482ms/step\n",
      "\n",
      "Hasil Metrik Evaluasi\n",
      "\n",
      "1. Akurasi Keseluruhan: 90.22%\n",
      "\n",
      "2, 3, 4. Laporan Presisi, Recall, & F1-Score per Kelas:\n",
      "\n",
      "              precision    recall  f1-score   support\n",
      "\n",
      "     battery       0.96      0.95      0.95        94\n",
      "  biological       0.96      1.00      0.98       104\n",
      " brown-glass       0.92      0.90      0.91        72\n",
      "   cardboard       0.97      0.86      0.91       100\n",
      "     clothes       0.92      0.98      0.95       111\n",
      " green-glass       0.98      0.92      0.95        61\n",
      "       metal       0.77      0.90      0.83        72\n",
      "       paper       0.88      0.91      0.89       106\n",
      "     plastic       0.74      0.70      0.72        88\n",
      "       shoes       0.94      0.93      0.94       107\n",
      "       trash       0.95      0.86      0.90        66\n",
      " white-glass       0.84      0.85      0.84        72\n",
      "\n",
      "    accuracy                           0.90      1053\n",
      "   macro avg       0.90      0.90      0.90      1053\n",
      "weighted avg       0.90      0.90      0.90      1053\n",
      "\n"
     ]
    }
   ],
   "source": [
    "if model:\n",
    "    y_pred_probs = model.predict(test_ds)\n",
    "    \n",
    "    y_pred = np.argmax(y_pred_probs, axis=1)\n",
    "    \n",
    "    y_true = np.concatenate([y for x, y in test_ds], axis=0)\n",
    "    \n",
    "    print(\"\\nHasil Metrik Evaluasi\")\n",
    "    \n",
    "    accuracy = accuracy_score(y_true, y_pred)\n",
    "    print(f\"\\n1. Akurasi Keseluruhan: {accuracy * 100:.2f}%\\n\")\n",
    "    \n",
    "    report = classification_report(y_true, y_pred, target_names=class_names)\n",
    "    print(\"2, 3, 4. Laporan Presisi, Recall, & F1-Score per Kelas:\\n\")\n",
    "    print(report)\n",
    "else:\n",
    "    print(\"Model tidak dimuat, evaluasi dibatalkan.\")"
   ]
  }
 ],
 "metadata": {
  "kernelspec": {
   "display_name": "garbage_env",
   "language": "python",
   "name": "python3"
  },
  "language_info": {
   "codemirror_mode": {
    "name": "ipython",
    "version": 3
   },
   "file_extension": ".py",
   "mimetype": "text/x-python",
   "name": "python",
   "nbconvert_exporter": "python",
   "pygments_lexer": "ipython3",
   "version": "3.10.18"
  }
 },
 "nbformat": 4,
 "nbformat_minor": 5
}
